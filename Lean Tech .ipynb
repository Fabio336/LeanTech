{
 "cells": [
  {
   "cell_type": "markdown",
   "id": "5846f2ab-e254-48cd-bd5e-943ddbebcaeb",
   "metadata": {},
   "source": [
    "### Lean Tech Test"
   ]
  },
  {
   "cell_type": "markdown",
   "id": "6c1847b6-57dd-433b-88e8-9af21b20296c",
   "metadata": {},
   "source": [
    "#### 1. Print the list [\"hola\", \"mundo\", \"123\"] as \"1:hola,2:mundo,3:123\"."
   ]
  },
  {
   "cell_type": "code",
   "execution_count": 117,
   "id": "cfd757be-6bd2-4b0d-b58b-a1fe2dcc768d",
   "metadata": {},
   "outputs": [
    {
     "name": "stdout",
     "output_type": "stream",
     "text": [
      "1:hola,2:mundo,3:123\n"
     ]
    }
   ],
   "source": [
    "\n",
    "x = [\"hola\", \"mundo\", \"123\"]\n",
    "c = \"\"\n",
    "v = 0\n",
    "for i in x: \n",
    "    v = v +1\n",
    "    if v < 3:\n",
    "        c = c+str(v)+\":\"+str(i)+','\n",
    "    else: \n",
    "        c = c+str(v)+\":\"+str(i)\n",
    "print(c)"
   ]
  },
  {
   "cell_type": "markdown",
   "id": "8e98ab7f-355e-443b-9667-401ef6f34053",
   "metadata": {},
   "source": [
    "#### 2. Create a dataframe with this values:\n",
    "\n",
    "Mes  |Ventas |Gastos\n",
    "-----|-----  |----- \n",
    "Enero|30500  |22000\n",
    "Febrero|35600  |23400\n",
    "Marzo|28300  |18100\n",
    "Abril|33900  |20700"
   ]
  },
  {
   "cell_type": "code",
   "execution_count": 115,
   "id": "aac8566d-6992-42f6-8bc9-082551c62c55",
   "metadata": {},
   "outputs": [
    {
     "data": {
      "text/html": [
       "<div>\n",
       "<style scoped>\n",
       "    .dataframe tbody tr th:only-of-type {\n",
       "        vertical-align: middle;\n",
       "    }\n",
       "\n",
       "    .dataframe tbody tr th {\n",
       "        vertical-align: top;\n",
       "    }\n",
       "\n",
       "    .dataframe thead th {\n",
       "        text-align: right;\n",
       "    }\n",
       "</style>\n",
       "<table border=\"1\" class=\"dataframe\">\n",
       "  <thead>\n",
       "    <tr style=\"text-align: right;\">\n",
       "      <th></th>\n",
       "      <th>Mes</th>\n",
       "      <th>Ventas</th>\n",
       "      <th>Gastos</th>\n",
       "    </tr>\n",
       "  </thead>\n",
       "  <tbody>\n",
       "    <tr>\n",
       "      <th>0</th>\n",
       "      <td>Enero</td>\n",
       "      <td>30500</td>\n",
       "      <td>22000</td>\n",
       "    </tr>\n",
       "    <tr>\n",
       "      <th>1</th>\n",
       "      <td>Febrero</td>\n",
       "      <td>35600</td>\n",
       "      <td>23400</td>\n",
       "    </tr>\n",
       "    <tr>\n",
       "      <th>2</th>\n",
       "      <td>Marzo</td>\n",
       "      <td>28300</td>\n",
       "      <td>18100</td>\n",
       "    </tr>\n",
       "    <tr>\n",
       "      <th>3</th>\n",
       "      <td>Abril</td>\n",
       "      <td>33900</td>\n",
       "      <td>20700</td>\n",
       "    </tr>\n",
       "  </tbody>\n",
       "</table>\n",
       "</div>"
      ],
      "text/plain": [
       "       Mes  Ventas  Gastos\n",
       "0    Enero   30500   22000\n",
       "1  Febrero   35600   23400\n",
       "2    Marzo   28300   18100\n",
       "3    Abril   33900   20700"
      ]
     },
     "execution_count": 115,
     "metadata": {},
     "output_type": "execute_result"
    }
   ],
   "source": [
    "import pandas as pd\n",
    "\n",
    "d = {'Mes':['Enero', 'Febrero', 'Marzo', 'Abril'],\n",
    "    'Ventas':[30500, 35600, 28300, 33900],\n",
    "     'Gastos':[22000, 23400, 18100, 20700]\n",
    "    }\n",
    "\n",
    "d = pd.DataFrame(d)\n",
    "d"
   ]
  },
  {
   "cell_type": "markdown",
   "id": "c7b56373-ee9b-48f6-863e-743dc0f9c615",
   "metadata": {},
   "source": [
    "#### 3. Calculate the total profit"
   ]
  },
  {
   "cell_type": "code",
   "execution_count": 110,
   "id": "23fbc93b-68a1-4931-8fdd-2c62d9bff902",
   "metadata": {},
   "outputs": [
    {
     "data": {
      "text/plain": [
       "44100"
      ]
     },
     "execution_count": 110,
     "metadata": {},
     "output_type": "execute_result"
    }
   ],
   "source": [
    "d['Ventas'].sum() - d['Gastos'].sum()"
   ]
  },
  {
   "cell_type": "markdown",
   "id": "19030639-c7fb-4fbf-9cae-8a611ae59db8",
   "metadata": {},
   "source": [
    "#### 4. Create a function that allow you to calculate the profit."
   ]
  },
  {
   "cell_type": "code",
   "execution_count": 120,
   "id": "ea6da2df-82d5-4e9b-9725-f6c0b3beb3bf",
   "metadata": {},
   "outputs": [
    {
     "data": {
      "text/html": [
       "<div>\n",
       "<style scoped>\n",
       "    .dataframe tbody tr th:only-of-type {\n",
       "        vertical-align: middle;\n",
       "    }\n",
       "\n",
       "    .dataframe tbody tr th {\n",
       "        vertical-align: top;\n",
       "    }\n",
       "\n",
       "    .dataframe thead th {\n",
       "        text-align: right;\n",
       "    }\n",
       "</style>\n",
       "<table border=\"1\" class=\"dataframe\">\n",
       "  <thead>\n",
       "    <tr style=\"text-align: right;\">\n",
       "      <th></th>\n",
       "      <th>Ventas</th>\n",
       "      <th>Gastos</th>\n",
       "    </tr>\n",
       "    <tr>\n",
       "      <th>Mes</th>\n",
       "      <th></th>\n",
       "      <th></th>\n",
       "    </tr>\n",
       "  </thead>\n",
       "  <tbody>\n",
       "    <tr>\n",
       "      <th>Enero</th>\n",
       "      <td>30500</td>\n",
       "      <td>22000</td>\n",
       "    </tr>\n",
       "    <tr>\n",
       "      <th>Febrero</th>\n",
       "      <td>35600</td>\n",
       "      <td>23400</td>\n",
       "    </tr>\n",
       "    <tr>\n",
       "      <th>Marzo</th>\n",
       "      <td>28300</td>\n",
       "      <td>18100</td>\n",
       "    </tr>\n",
       "    <tr>\n",
       "      <th>Abril</th>\n",
       "      <td>33900</td>\n",
       "      <td>20700</td>\n",
       "    </tr>\n",
       "  </tbody>\n",
       "</table>\n",
       "</div>"
      ],
      "text/plain": [
       "         Ventas  Gastos\n",
       "Mes                    \n",
       "Enero     30500   22000\n",
       "Febrero   35600   23400\n",
       "Marzo     28300   18100\n",
       "Abril     33900   20700"
      ]
     },
     "execution_count": 120,
     "metadata": {},
     "output_type": "execute_result"
    }
   ],
   "source": [
    "d = d.set_index('Mes')\n",
    "d"
   ]
  },
  {
   "cell_type": "code",
   "execution_count": 121,
   "id": "78b24412-286a-4cbb-b95f-4d6e1306bd63",
   "metadata": {},
   "outputs": [],
   "source": [
    "def mes(x):\n",
    "    df = d.loc[x]\n",
    "    return df['Ventas'].sum() - df['Gastos'].sum()"
   ]
  },
  {
   "cell_type": "code",
   "execution_count": 122,
   "id": "2fde0e7a-f7df-405c-af04-8f15f01156b8",
   "metadata": {},
   "outputs": [
    {
     "data": {
      "text/plain": [
       "30900"
      ]
     },
     "execution_count": 122,
     "metadata": {},
     "output_type": "execute_result"
    }
   ],
   "source": [
    "mes(['Enero', 'Febrero', 'Marzo'])"
   ]
  }
 ],
 "metadata": {
  "kernelspec": {
   "display_name": "Python 3.8.12 64-bit ('DataSea': conda)",
   "language": "python",
   "name": "python3812jvsc74a57bd07010424de7d82c91e49668ac815319918219d3ccbca800a74c8ae1f3905a507e"
  },
  "language_info": {
   "codemirror_mode": {
    "name": "ipython",
    "version": 3
   },
   "file_extension": ".py",
   "mimetype": "text/x-python",
   "name": "python",
   "nbconvert_exporter": "python",
   "pygments_lexer": "ipython3",
   "version": "3.8.12"
  }
 },
 "nbformat": 4,
 "nbformat_minor": 5
}
